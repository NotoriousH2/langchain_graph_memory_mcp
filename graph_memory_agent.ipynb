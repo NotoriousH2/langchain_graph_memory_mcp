{
  "cells": [
    {
      "cell_type": "raw",
      "metadata": {
        "vscode": {
          "languageId": "raw"
        }
      },
      "source": [
        "# 🧠 MCP 지식 그래프 메모리 에이전트\n",
        "\n",
        "**LangGraph ReAct Agent와 MCP 서버를 활용한 지능적 메모리 시스템**\n",
        "\n",
        "이 노트북에서는 MCP(Model Context Protocol) 서버와 연결된 지능적 메모리 에이전트를 단계별로 테스트할 수 있습니다.\n",
        "\n",
        "## ⚠️ 사전 준비\n",
        "1. **서버 실행**: 별도 터미널에서 `python memory_server.py` 실행\n",
        "2. **API 키**: `env` 파일에 OpenAI API 키 설정\n",
        "3. **패키지**: 필요한 라이브러리들이 설치되어 있는지 확인\n"
      ]
    },
    {
      "cell_type": "raw",
      "metadata": {
        "vscode": {
          "languageId": "raw"
        }
      },
      "source": [
        "## 📦 1. 라이브러리 임포트 및 설정\n"
      ]
    },
    {
      "cell_type": "code",
      "execution_count": null,
      "metadata": {},
      "outputs": [],
      "source": [
        "#!/usr/bin/env python3\n",
        "import json\n",
        "import asyncio\n",
        "import os\n",
        "from langchain_mcp_adapters.client import MultiServerMCPClient\n",
        "from langchain_openai import ChatOpenAI\n",
        "from langgraph.prebuilt import create_react_agent\n",
        "from langchain_core.messages import HumanMessage\n",
        "from dotenv import load_dotenv\n",
        "import warnings\n",
        "warnings.filterwarnings('ignore')\n",
        "\n",
        "# 환경 변수 로드\n",
        "load_dotenv('env', override=True)\n",
        "\n",
        "print(\"✅ 라이브러리 임포트 완료!\")\n",
        "print(f\"💡 OpenAI API 키 설정: {'✅' if os.getenv('OPENAI_API_KEY') else '❌'}\")\n"
      ]
    },
    {
      "cell_type": "raw",
      "metadata": {
        "vscode": {
          "languageId": "raw"
        }
      },
      "source": [
        "## 🤖 2. MCP 메모리 에이전트 클래스 정의\n"
      ]
    },
    {
      "cell_type": "code",
      "execution_count": null,
      "metadata": {},
      "outputs": [],
      "source": [
        "class MCPMemoryAgent:\n",
        "    \"\"\"MCP 메모리 에이전트\"\"\"\n",
        "    \n",
        "    def __init__(self):\n",
        "        \"\"\"클라이언트 초기화\"\"\"\n",
        "        self.client = None\n",
        "        self.tools = None\n",
        "        self.llm = None\n",
        "        self.agent = None\n",
        "        self.initialized = False\n",
        "        \n",
        "    async def initialize(self):\n",
        "        \"\"\"비동기 초기화\"\"\"\n",
        "        if self.initialized:\n",
        "            print(\"🔄 이미 초기화되어 있습니다.\")\n",
        "            return\n",
        "            \n",
        "        # OpenAI API 키 확인\n",
        "        api_key = os.getenv('OPENAI_API_KEY')\n",
        "        if not api_key:\n",
        "            raise ValueError(\"OPENAI_API_KEY가 설정되지 않았습니다. env 파일을 확인해주세요.\")\n",
        "        \n",
        "        print(\"🔧 에이전트 초기화 중...\")\n",
        "        \n",
        "        # ChatOpenAI 초기화\n",
        "        self.llm = ChatOpenAI(model='gpt-4o-mini', temperature=0.1)\n",
        "        print(\"✅ LLM 초기화 완료\")\n",
        "        \n",
        "        # MCP 클라이언트 설정\n",
        "        self.client = MultiServerMCPClient({\n",
        "            \"memory\": {\n",
        "                \"url\": \"http://localhost:8084/mcp\",\n",
        "                \"transport\": \"streamable_http\"\n",
        "            }\n",
        "        })\n",
        "        print(\"✅ MCP 클라이언트 설정 완료\")\n",
        "        \n",
        "        # 도구 로드\n",
        "        self.tools = await self.client.get_tools()\n",
        "        print(f\"✅ MCP 도구 로드 완료 ({len(self.tools)}개)\")\n",
        "        \n",
        "        # 리소스 로드\n",
        "        try:\n",
        "            resources = await self.client.get_resources('memory')\n",
        "            if resources:\n",
        "                memory_status = resources[0].as_string()\n",
        "                print(f\"📊 메모리 상태:\\n{memory_status}\")\n",
        "        except Exception as e:\n",
        "            print(f\"⚠️ 리소스 로드 중 오류: {e}\")\n",
        "        \n",
        "        # ReAct 에이전트 생성\n",
        "        system_prompt = \"\"\"\n",
        "당신은 지능적인 AI 어시스턴트입니다. 지식 그래프 기반의 메모리 시스템을 활용하여 사용자와의 대화를 기억하고 관리할 수 있습니다.\n",
        "\n",
        "### 메모리 관리 원칙:\n",
        "1. **사용자 식별**: 사용자의 기본 정보(이름, 나이, 직업, 위치 등)를 파악하고 저장합니다.\n",
        "2. **관계 추적**: 사람들 간의 관계, 조직과의 연결 등을 기록합니다.\n",
        "3. **행동과 선호도**: 사용자의 관심사, 습관, 선호도를 관찰하고 저장합니다.\n",
        "4. **목표와 계획**: 사용자의 목표, 계획, 의도를 기억합니다.\n",
        "\n",
        "### 메모리 활용 방법:\n",
        "- 대화 시작 시 기존 메모리를 검색하여 사용자 정보를 확인\n",
        "- 새로운 정보 발견 시 적절한 엔티티와 관계로 저장\n",
        "- 기존 정보와 연결하여 맥락 유지\n",
        "- 대화가 끝나면 새롭게 알게 된 중요한 부분을 메모리에 저장\n",
        "\n",
        "### 사용 가능한 도구들:\n",
        "- create_entities: 새로운 사람, 조직, 개념 등을 생성\n",
        "- create_relations: 엔티티 간의 관계 설정\n",
        "- add_observations: 엔티티에 대한 새로운 정보 추가\n",
        "- search_nodes: 특정 정보 검색\n",
        "- read_graph: 전체 메모리 구조 확인\n",
        "\n",
        "항상 친근하고 도움이 되는 톤으로 대화하며, 사용자의 개인정보를 안전하게 보호합니다.\n",
        "\"\"\"\n",
        "        \n",
        "        self.agent = create_react_agent(self.llm, self.tools, prompt=system_prompt)\n",
        "        print(\"✅ ReAct 에이전트 생성 완료\")\n",
        "        \n",
        "        self.initialized = True\n",
        "        print(\"\\n🎉 MCP 메모리 에이전트 초기화 완료!\")\n",
        "        \n",
        "    async def chat(self, user_input: str) -> str:\n",
        "        \"\"\"사용자와 채팅\"\"\"\n",
        "        if not self.initialized:\n",
        "            await self.initialize()\n",
        "            \n",
        "        try:\n",
        "            # 에이전트 실행\n",
        "            response = await self.agent.ainvoke({\n",
        "                'messages': [HumanMessage(content=user_input)]\n",
        "            })\n",
        "            \n",
        "            # 응답에서 AI 메시지 추출\n",
        "            if response and 'messages' in response:\n",
        "                ai_messages = [msg for msg in response['messages'] if hasattr(msg, 'content') and msg.type == 'ai']\n",
        "                if ai_messages:\n",
        "                    return ai_messages[-1].content\n",
        "            \n",
        "            return \"응답을 생성할 수 없습니다.\"\n",
        "            \n",
        "        except Exception as e:\n",
        "            error_msg = f\"채팅 중 오류가 발생했습니다: {e}\"\n",
        "            print(f\"❌ {error_msg}\")\n",
        "            return error_msg\n",
        "    \n",
        "    async def close(self):\n",
        "        \"\"\"클라이언트 종료\"\"\"\n",
        "        if self.client:\n",
        "            # MultiServerMCPClient는 close() 메서드가 없을 수 있음\n",
        "            if hasattr(self.client, 'close'):\n",
        "                try:\n",
        "                    await self.client.close()\n",
        "                except Exception as e:\n",
        "                    print(f\"⚠️ 클라이언트 종료 중 오류: {e}\")\n",
        "            print(\"🔴 MCP 클라이언트가 종료되었습니다.\")\n",
        "\n",
        "print(\"✅ MCPMemoryAgent 클래스 정의 완료!\")\n"
      ]
    },
    {
      "cell_type": "raw",
      "metadata": {
        "vscode": {
          "languageId": "raw"
        }
      },
      "source": [
        "## 🚀 3. 에이전트 초기화\n"
      ]
    },
    {
      "cell_type": "code",
      "execution_count": null,
      "metadata": {},
      "outputs": [],
      "source": [
        "# 글로벌 에이전트 인스턴스 생성\n",
        "agent = MCPMemoryAgent()\n",
        "\n",
        "# 초기화 실행\n",
        "await agent.initialize()\n"
      ]
    },
    {
      "cell_type": "raw",
      "metadata": {
        "vscode": {
          "languageId": "raw"
        }
      },
      "source": [
        "## 💬 4. 기본 대화 테스트\n"
      ]
    },
    {
      "cell_type": "code",
      "execution_count": null,
      "metadata": {},
      "outputs": [],
      "source": [
        "# 기본 인사 및 메모리 상태 확인\n",
        "user_input = \"안녕하세요! 현재 저장된 메모리 상태를 확인해주세요.\"\n",
        "print(f\"👤 사용자: {user_input}\")\n",
        "\n",
        "response = await agent.chat(user_input)\n",
        "print(f\"\\n🤖 AI: {response}\")\n"
      ]
    },
    {
      "cell_type": "raw",
      "metadata": {
        "vscode": {
          "languageId": "raw"
        }
      },
      "source": [
        "## 📝 5. 개인 정보 저장 테스트\n"
      ]
    },
    {
      "cell_type": "code",
      "execution_count": null,
      "metadata": {},
      "outputs": [],
      "source": [
        "# 개인 정보 저장\n",
        "user_input = \"안녕하세요! 저는 김철수이고 29세입니다. 삼성에서 AI 개발자로 일하고 있고, Python과 머신러닝을 좋아해요.\"\n",
        "print(f\"👤 사용자: {user_input}\")\n",
        "\n",
        "response = await agent.chat(user_input)\n",
        "print(f\"\\n🤖 AI: {response}\")\n"
      ]
    },
    {
      "cell_type": "raw",
      "metadata": {
        "vscode": {
          "languageId": "raw"
        }
      },
      "source": [
        "## 👥 6. 관계 정보 저장 테스트\n"
      ]
    },
    {
      "cell_type": "code",
      "execution_count": null,
      "metadata": {},
      "outputs": [],
      "source": [
        "# 동료 정보 및 관계 저장\n",
        "user_input = \"제 동료 이영희는 LG에서 데이터 사이언티스트로 일해요. 같은 대학 출신이고 현재 자연어처리 프로젝트를 함께 하고 있어요.\"\n",
        "print(f\"👤 사용자: {user_input}\")\n",
        "\n",
        "response = await agent.chat(user_input)\n",
        "print(f\"\\n🤖 AI: {response}\")\n"
      ]
    },
    {
      "cell_type": "raw",
      "metadata": {
        "vscode": {
          "languageId": "raw"
        }
      },
      "source": [
        "## 🔍 7. 검색 기능 테스트\n"
      ]
    },
    {
      "cell_type": "code",
      "execution_count": null,
      "metadata": {},
      "outputs": [],
      "source": [
        "# AI 관련 정보 검색\n",
        "user_input = \"AI와 관련된 사람들이나 정보를 검색해주세요.\"\n",
        "print(f\"👤 사용자: {user_input}\")\n",
        "\n",
        "response = await agent.chat(user_input)\n",
        "print(f\"\\n🤖 AI: {response}\")\n"
      ]
    },
    {
      "cell_type": "raw",
      "metadata": {
        "vscode": {
          "languageId": "raw"
        }
      },
      "source": [
        "## 📊 8. 전체 메모리 그래프 조회\n"
      ]
    },
    {
      "cell_type": "code",
      "execution_count": null,
      "metadata": {},
      "outputs": [],
      "source": [
        "# 전체 지식 그래프 상태 확인\n",
        "user_input = \"지금까지 저장된 모든 정보를 정리해서 보여주세요. 전체 메모리 그래프를 확인하고 싶어요.\"\n",
        "print(f\"👤 사용자: {user_input}\")\n",
        "\n",
        "response = await agent.chat(user_input)\n",
        "print(f\"\\n🤖 AI: {response}\")\n"
      ]
    },
    {
      "cell_type": "raw",
      "metadata": {
        "vscode": {
          "languageId": "raw"
        }
      },
      "source": [
        "## 💡 9. 추가 정보 저장 및 검색\n"
      ]
    },
    {
      "cell_type": "code",
      "execution_count": null,
      "metadata": {},
      "outputs": [],
      "source": [
        "# 회사 및 프로젝트 정보 저장\n",
        "user_input = \"제가 근무하는 삼성 AI팀은 서울 강남에 위치해 있고, 현재 ChatBot 프로젝트를 진행 중입니다. 팀장은 박민수 부장님이에요.\"\n",
        "print(f\"👤 사용자: {user_input}\")\n",
        "\n",
        "response = await agent.chat(user_input)\n",
        "print(f\"\\n🤖 AI: {response}\")\n"
      ]
    },
    {
      "cell_type": "raw",
      "metadata": {
        "vscode": {
          "languageId": "raw"
        }
      },
      "source": [
        "## 🎯 10. 특정 검색 테스트\n"
      ]
    },
    {
      "cell_type": "code",
      "execution_count": null,
      "metadata": {},
      "outputs": [],
      "source": [
        "# 삼성 관련 정보 검색\n",
        "user_input = \"삼성과 관련된 모든 정보를 찾아주세요.\"\n",
        "print(f\"👤 사용자: {user_input}\")\n",
        "\n",
        "response = await agent.chat(user_input)\n",
        "print(f\"\\n🤖 AI: {response}\")\n"
      ]
    },
    {
      "cell_type": "raw",
      "metadata": {
        "vscode": {
          "languageId": "raw"
        }
      },
      "source": [
        "## 📁 11. 저장된 데이터 파일 확인\n"
      ]
    },
    {
      "cell_type": "code",
      "execution_count": null,
      "metadata": {},
      "outputs": [],
      "source": [
        "# memory.json 파일 내용 확인\n",
        "try:\n",
        "    with open('memory.json', 'r', encoding='utf-8') as f:\n",
        "        memory_data = json.load(f)\n",
        "    \n",
        "    print(\"📊 저장된 메모리 데이터:\")\n",
        "    print(f\"📝 엔티티 개수: {len(memory_data.get('entities', []))}\")\n",
        "    print(f\"🔗 관계 개수: {len(memory_data.get('relations', []))}\")\n",
        "    \n",
        "    print(\"\\n📋 엔티티 목록:\")\n",
        "    for entity in memory_data.get('entities', []):\n",
        "        print(f\"  • {entity['name']} ({entity['entityType']})\")\n",
        "    \n",
        "    print(\"\\n🔗 관계 목록:\")\n",
        "    for relation in memory_data.get('relations', []):\n",
        "        print(f\"  • {relation['from_entity']} → {relation['relationType']} → {relation['to_entity']}\")\n",
        "        \n",
        "except FileNotFoundError:\n",
        "    print(\"❌ memory.json 파일을 찾을 수 없습니다.\")\n",
        "except Exception as e:\n",
        "    print(f\"❌ 파일 읽기 오류: {e}\")\n"
      ]
    },
    {
      "cell_type": "raw",
      "metadata": {
        "vscode": {
          "languageId": "raw"
        }
      },
      "source": [
        "## 🧪 12. 자유 테스트 영역\n",
        "\n",
        "아래 셀에서 원하는 질문이나 명령을 자유롭게 테스트해보세요!\n"
      ]
    },
    {
      "cell_type": "code",
      "execution_count": null,
      "metadata": {},
      "outputs": [],
      "source": [
        "# 자유 테스트용 - 원하는 질문을 입력하세요\n",
        "user_input = \"이영희에 대해 알고 있는 모든 정보를 알려주세요.\"\n",
        "\n",
        "print(f\"👤 사용자: {user_input}\")\n",
        "response = await agent.chat(user_input)\n",
        "print(f\"\\n🤖 AI: {response}\")\n"
      ]
    },
    {
      "cell_type": "raw",
      "metadata": {
        "vscode": {
          "languageId": "raw"
        }
      },
      "source": [
        "## 🔄 13. 정리 및 종료\n"
      ]
    },
    {
      "cell_type": "code",
      "execution_count": null,
      "metadata": {},
      "outputs": [],
      "source": [
        "# 에이전트 정리 및 종료\n",
        "await agent.close()\n",
        "print(\"\\n🎉 MCP 메모리 에이전트 테스트 완료!\")\n",
        "print(\"💾 모든 대화 내용이 memory.json에 저장되었습니다.\")\n",
        "print(\"🔄 다시 테스트하려면 노트북을 재시작하고 처음부터 실행하세요.\")\n"
      ]
    },
    {
      "cell_type": "raw",
      "metadata": {
        "vscode": {
          "languageId": "raw"
        }
      },
      "source": [
        "---\n",
        "\n",
        "## 📚 추가 정보\n",
        "\n",
        "### 🛠️ 주요 기능\n",
        "- **엔티티 생성**: 사람, 조직, 개념 등을 그래프 노드로 저장\n",
        "- **관계 설정**: 엔티티 간의 방향성 있는 연결 생성\n",
        "- **관찰사항 추가**: 기존 엔티티에 새로운 정보 축적\n",
        "- **지능적 검색**: 이름, 타입, 내용 기반 검색\n",
        "- **그래프 시각화**: 전체 지식 네트워크 조회\n",
        "\n",
        "### 💡 활용 팁\n",
        "1. **구체적인 정보 제공**: 이름, 직업, 관계 등을 명확히 언급\n",
        "2. **점진적 정보 추가**: 한 번에 모든 정보보다는 대화를 통해 점진적으로\n",
        "3. **검색 활용**: 저장된 정보를 다양한 키워드로 검색 테스트\n",
        "4. **관계 확인**: 인물 간 연결고리 파악으로 네트워크 이해\n",
        "\n",
        "### 🔧 문제 해결\n",
        "- **서버 연결 오류**: `memory_server.py`가 실행 중인지 확인\n",
        "- **API 오류**: `env` 파일의 OpenAI API 키 확인\n",
        "- **메모리 초기화**: `memory.json` 파일 삭제 후 재시작\n",
        "\n",
        "🎉 **즐거운 메모리 에이전트 테스트 되세요!** 🎉\n"
      ]
    }
  ],
  "metadata": {
    "language_info": {
      "name": "python"
    }
  },
  "nbformat": 4,
  "nbformat_minor": 2
}
